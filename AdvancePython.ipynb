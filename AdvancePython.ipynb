{
  "nbformat": 4,
  "nbformat_minor": 0,
  "metadata": {
    "colab": {
      "provenance": [],
      "authorship_tag": "ABX9TyN9zpHq+Xo6M+e3s5g8vDZ4",
      "include_colab_link": true
    },
    "kernelspec": {
      "name": "python3",
      "display_name": "Python 3"
    },
    "language_info": {
      "name": "python"
    }
  },
  "cells": [
    {
      "cell_type": "markdown",
      "metadata": {
        "id": "view-in-github",
        "colab_type": "text"
      },
      "source": [
        "<a href=\"https://colab.research.google.com/github/Lee2008-cyber/advance_python/blob/main/AdvancePython.ipynb\" target=\"_parent\"><img src=\"https://colab.research.google.com/assets/colab-badge.svg\" alt=\"Open In Colab\"/></a>"
      ]
    },
    {
      "cell_type": "markdown",
      "source": [
        "# **Advance Python Assignment**"
      ],
      "metadata": {
        "id": "ZnXjRJISRvB0"
      }
    },
    {
      "cell_type": "markdown",
      "source": [
        "\n",
        "\n",
        "1.  Create a file that contain 1000 lines of random strings.\n"
      ],
      "metadata": {
        "id": "TjRhZ-cwR6IP"
      }
    },
    {
      "cell_type": "code",
      "execution_count": null,
      "metadata": {
        "id": "OuBawo8ORtah"
      },
      "outputs": [],
      "source": [
        "import random\n",
        "import string\n",
        "\n",
        "with open(\"random_strings.txt\", \"w\") as file:\n",
        "    for _ in range(1000):\n",
        "        line=''.join(random.choices(string.ascii_letters + string.digits, k=10))\n",
        "        file.write(line + \"\\n\")\n"
      ]
    },
    {
      "cell_type": "markdown",
      "source": [
        "\n",
        "2. Create a File that contains multiple lines of random strings and file size must be 5 MB.\n",
        "\n"
      ],
      "metadata": {
        "id": "v71FukuETGnB"
      }
    },
    {
      "cell_type": "code",
      "source": [
        "import random\n",
        "import string\n",
        "\n",
        "target_size_bytes = 5 * 1024 * 1024\n",
        "line_length = 50\n",
        "\n",
        "with open(\"random_strings_5mb.txt\",\"w\") as file:\n",
        "  total_bytes_written = 0\n",
        "  while total_bytes_written < target_size_bytes:\n",
        "    random_string = ''.join(random.choices(string.ascii_letters + string.digits, k=line_length))\n",
        "    line = random_string + '\\n'\n",
        "    file.write(line)\n",
        "    total_bytes_written += len(line)\n",
        "    if total_bytes_written >= target_size_bytes:\n",
        "       break"
      ],
      "metadata": {
        "id": "NhHAXbLyTjQ3"
      },
      "execution_count": null,
      "outputs": []
    },
    {
      "cell_type": "markdown",
      "source": [
        "\n",
        "\n",
        "3. Create 10 files that have multiple lines of random strings and file size must be 5 MB.   \n",
        "\n"
      ],
      "metadata": {
        "id": "B6CP91f6ZpJJ"
      }
    },
    {
      "cell_type": "code",
      "source": [
        "import os\n",
        "import random\n",
        "import string\n",
        "\n",
        "def generate_random_string(lenght=100):\n",
        "    return ''.join(random.choices(string.ascii_letters + string.digits, k=lenght))\n",
        "\n",
        "def create_file(filename, target_size_mb):\n",
        "  target_size = target_size_mb * 1024 * 1024\n",
        "  with open(filename,'w') as f:\n",
        "    size =0\n",
        "    while size < target_size:\n",
        "      line = generate_random_string() + '\\n'\n",
        "      f.write(line)\n",
        "      size += len(line)\n",
        "\n",
        "for i in range(10):\n",
        "  filename = f\"random_file_{i+1}.txt\"\n",
        "  create_file(filename,5)\n",
        "  print(f\"created file {filename}\")\n",
        "\n"
      ],
      "metadata": {
        "id": "4G3HNvt_aBKu"
      },
      "execution_count": null,
      "outputs": []
    },
    {
      "cell_type": "markdown",
      "source": [
        "\n",
        "\n",
        "4.    Create 5 Files of size of 1GB, 2GB, 3GB, 4GB and 5GB, File must contain multiple line of random strings.\n",
        "\n"
      ],
      "metadata": {
        "id": "6fs5vW-iTSEj"
      }
    },
    {
      "cell_type": "code",
      "source": [
        "import random\n",
        "import string\n",
        "\n",
        "def generate_random_string(length=100):\n",
        "    return ''.join(random.choices(string.ascii_letters + string.digits, k=length))\n",
        "\n",
        "def create_large_file(filename, size_gb):\n",
        "    target_size = size_gb * 1024 * 1024 * 1024\n",
        "    with open(filename, 'w') as f:\n",
        "        size = 0\n",
        "        while size < target_size:\n",
        "            line = generate_random_string(100) + '\\n'\n",
        "            f.write(line)\n",
        "            size += len(line)\n",
        "    print(f\"Created {filename} ({size_gb}GB)\")\n",
        "\n",
        "sizes_gb = [1, 2, 3, 4, 5]\n",
        "\n",
        "for gb in sizes_gb:\n",
        "    filename = f'large_file_{gb}GB.txt'\n",
        "    create_large_file(filename, gb)\n"
      ],
      "metadata": {
        "id": "kgSlX9ltPvQD"
      },
      "execution_count": null,
      "outputs": []
    },
    {
      "cell_type": "markdown",
      "source": [
        "\n",
        "\n",
        "5.  Convert all the files in #4 into upper case.\n",
        "\n"
      ],
      "metadata": {
        "id": "LEcaROJHls_V"
      }
    },
    {
      "cell_type": "code",
      "source": [
        "def convert_file_to_uppercase(input_filename, output_filename):\n",
        "    with open(input_filename, 'r') as infile, open(output_filename, 'w') as outfile:\n",
        "        for line in infile:\n",
        "            outfile.write(line.upper())\n",
        "    print(f\"Converted {input_filename} -> {output_filename}\")\n",
        "\n",
        "\n",
        "sizes_gb = [1, 2, 3, 4, 5]\n",
        "\n",
        "for gb in sizes_gb:\n",
        "    input_file = f'large_file_{gb}GB.txt'\n",
        "    output_file = f'large_file_{gb}GB_UPPER.txt'\n",
        "    convert_file_to_uppercase(input_file, output_file)\n"
      ],
      "metadata": {
        "id": "kmCyET7pmaUk"
      },
      "execution_count": null,
      "outputs": []
    }
  ]
}